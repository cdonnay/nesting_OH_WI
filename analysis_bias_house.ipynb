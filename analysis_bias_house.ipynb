{
 "cells": [
  {
   "cell_type": "code",
   "execution_count": 5,
   "metadata": {},
   "outputs": [
    {
     "name": "stdout",
     "output_type": "stream",
     "text": [
      "OH Dem SEN18\n",
      "best score 74\n",
      "burst 7\n",
      "\n",
      "------------\n",
      "\n",
      "OH Dem TRES18\n",
      "best score 58\n",
      "burst 8\n",
      "\n",
      "------------\n",
      "\n",
      "OH Rep SEN18\n",
      "best score 67\n",
      "burst 9\n",
      "\n",
      "------------\n",
      "\n",
      "OH Rep TRES18\n",
      "best score 83\n",
      "burst 7\n",
      "\n",
      "------------\n",
      "\n",
      "WI Dem SEN18\n",
      "best score 79\n",
      "burst 8\n",
      "\n",
      "------------\n",
      "\n",
      "WI Dem AG18\n",
      "best score 62\n",
      "burst 11\n",
      "\n",
      "------------\n",
      "\n",
      "WI Rep SEN18\n",
      "best score 60\n",
      "burst 8\n",
      "\n",
      "------------\n",
      "\n",
      "WI Rep AG18\n",
      "best score 75\n",
      "burst 7\n",
      "\n",
      "------------\n",
      "\n"
     ]
    }
   ],
   "source": [
    "for state in [\"OH\", \"WI\"]:\n",
    "    for bias_party in [\"Dem\", \"Rep\"]:\n",
    "        elections = [\"SEN18\", \"TRES18\"] if state == \"OH\" else [\"SEN18\", \"AG18\"]\n",
    "        for election in elections:\n",
    "\n",
    "            best_score  = 0\n",
    "            for method in [\"burst\", \"tilt\"]:\n",
    "                params = [7, 8, 9, 10, 11, 12, 13] if method == \"burst\" else [.1, .05, .01, .005, .001, .0005, .0001]\n",
    "                for param in params:\n",
    "\n",
    "                    file_str = f\"triple_nesting/new_code/data/house/{state}_{bias_party}_{election}_{method}_{float(param)}_score.txt\"\n",
    "\n",
    "                    with open(file_str, \"r\") as file:\n",
    "                        score = int(file.read())\n",
    "                    \n",
    "                    if score > best_score:\n",
    "                        best_score = score\n",
    "                        best_method = method\n",
    "                        best_param = param\n",
    "            print(state, bias_party, election)\n",
    "            print(\"best score\", best_score)\n",
    "            print(best_method, best_param)\n",
    "            print(\"\\n------------\\n\")\n",
    "            \n",
    "\n"
   ]
  },
  {
   "cell_type": "code",
   "execution_count": null,
   "metadata": {},
   "outputs": [],
   "source": []
  }
 ],
 "metadata": {
  "kernelspec": {
   "display_name": ".venv_triple_nest",
   "language": "python",
   "name": "python3"
  },
  "language_info": {
   "codemirror_mode": {
    "name": "ipython",
    "version": 3
   },
   "file_extension": ".py",
   "mimetype": "text/x-python",
   "name": "python",
   "nbconvert_exporter": "python",
   "pygments_lexer": "ipython3",
   "version": "3.10.4"
  }
 },
 "nbformat": 4,
 "nbformat_minor": 2
}
